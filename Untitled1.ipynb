{
 "cells": [
  {
   "cell_type": "code",
   "execution_count": 4,
   "metadata": {},
   "outputs": [
    {
     "name": "stdout",
     "output_type": "stream",
     "text": [
      "[ 0.16061001 -0.76616332 -0.63670616 -0.55537201 -0.45887026 -0.32989392\n",
      " -0.19056962]\n",
      "[ 0.16061001 -0.76616332 -0.63670616 -0.55537201 -0.45887026 -0.32989392\n",
      " -0.19056962]\n",
      "[[50]]\n"
     ]
    }
   ],
   "source": [
    "\n",
    "# load the AR model from file\n",
    "from statsmodels.tsa.ar_model import AutoRegResults\n",
    "import numpy\n",
    "loaded = AutoRegResults.load('ar_model.pkl')\n",
    "print(loaded.params)\n",
    "data = numpy.load('ar_data.npy')\n",
    "last_ob = numpy.load('ar_obs.npy')\n",
    "print(last_ob)\n"
   ]
  },
  {
   "cell_type": "code",
   "execution_count": 5,
   "metadata": {},
   "outputs": [
    {
     "name": "stdout",
     "output_type": "stream",
     "text": [
      "[ 0.16061001 -0.76616332 -0.63670616 -0.55537201 -0.45887026 -0.32989392\n",
      " -0.19056962]\n",
      "[[-10]\n",
      " [  3]\n",
      " [ 15]\n",
      " [ -4]\n",
      " [  7]\n",
      " [ -5]]\n",
      "[[50]]\n"
     ]
    }
   ],
   "source": [
    "coef = numpy.load('man_model.npy')\n",
    "print(coef)\n",
    "lag = numpy.load('man_data.npy')\n",
    "print(lag)\n",
    "last_ob = numpy.load('man_obs.npy')\n",
    "print(last_ob)"
   ]
  },
  {
   "cell_type": "code",
   "execution_count": 6,
   "metadata": {},
   "outputs": [
    {
     "name": "stdout",
     "output_type": "stream",
     "text": [
      "Prediction: 44.436618\n"
     ]
    }
   ],
   "source": [
    "from statsmodels.tsa.ar_model import AutoRegResults\n",
    "import numpy\n",
    "# load model\n",
    "model = AutoRegResults.load('ar_model.pkl')\n",
    "data = numpy.load('ar_data.npy')\n",
    "last_ob = numpy.load('ar_obs.npy')\n",
    "# make prediction\n",
    "predictions = model.predict(start=len(data), end=len(data))\n",
    "# transform prediction\n",
    "yhat = predictions[0] + last_ob[0]\n",
    "print('Prediction: %f' % yhat)"
   ]
  },
  {
   "cell_type": "code",
   "execution_count": 7,
   "metadata": {},
   "outputs": [
    {
     "name": "stdout",
     "output_type": "stream",
     "text": [
      "Prediction: 44.436618\n"
     ]
    }
   ],
   "source": [
    "from statsmodels.tsa.ar_model import AutoRegResults\n",
    "import numpy\n",
    "# load model\n",
    "model = AutoRegResults.load('ar_model.pkl')\n",
    "data = numpy.load('ar_data.npy')\n",
    "last_ob = numpy.load('ar_obs.npy')\n",
    "# make prediction\n",
    "predictions = model.predict(start=len(data), end=len(data))\n",
    "# transform prediction\n",
    "yhat = predictions[0] + last_ob[0]\n",
    "print('Prediction: %f' % yhat)"
   ]
  },
  {
   "cell_type": "code",
   "execution_count": 8,
   "metadata": {},
   "outputs": [
    {
     "name": "stdout",
     "output_type": "stream",
     "text": [
      "Prediction: 44.436618\n"
     ]
    }
   ],
   "source": [
    "from statsmodels.tsa.ar_model import AutoRegResults\n",
    "import numpy\n",
    "# load model\n",
    "model = AutoRegResults.load('ar_model.pkl')\n",
    "data = numpy.load('ar_data.npy')\n",
    "last_ob = numpy.load('ar_obs.npy')\n",
    "# make prediction\n",
    "predictions = model.predict(start=len(data), end=len(data))\n",
    "# transform prediction\n",
    "yhat = predictions[0] + last_ob[0]\n",
    "print('Prediction: %f' % yhat)"
   ]
  },
  {
   "cell_type": "code",
   "execution_count": 9,
   "metadata": {},
   "outputs": [
    {
     "name": "stdout",
     "output_type": "stream",
     "text": [
      "Prediction: 44.436618\n"
     ]
    }
   ],
   "source": [
    "from statsmodels.tsa.ar_model import AutoRegResults\n",
    "import numpy\n",
    "# load model\n",
    "model = AutoRegResults.load('ar_model.pkl')\n",
    "data = numpy.load('ar_data.npy')\n",
    "last_ob = numpy.load('ar_obs.npy')\n",
    "# make prediction\n",
    "predictions = model.predict(start=len(data), end=len(data))\n",
    "# transform prediction\n",
    "yhat = predictions[0] + last_ob[0]\n",
    "print('Prediction: %f' % yhat)"
   ]
  },
  {
   "cell_type": "code",
   "execution_count": null,
   "metadata": {},
   "outputs": [],
   "source": []
  }
 ],
 "metadata": {
  "kernelspec": {
   "display_name": "Python 3",
   "language": "python",
   "name": "python3"
  },
  "language_info": {
   "codemirror_mode": {
    "name": "ipython",
    "version": 3
   },
   "file_extension": ".py",
   "mimetype": "text/x-python",
   "name": "python",
   "nbconvert_exporter": "python",
   "pygments_lexer": "ipython3",
   "version": "3.8.2"
  }
 },
 "nbformat": 4,
 "nbformat_minor": 4
}
